{
 "cells": [
  {
   "cell_type": "code",
   "execution_count": 1,
   "metadata": {},
   "outputs": [],
   "source": [
    "import math\n",
    "import numpy as np\n",
    "from numpy.linalg import inv\n",
    "import modern_robotics as mr\n",
    "import matplotlib.pyplot as plt\n",
    "import pandas as pd\n",
    "from queue import PriorityQueue as pq"
   ]
  },
  {
   "cell_type": "code",
   "execution_count": 11,
   "metadata": {},
   "outputs": [],
   "source": [
    "class SearchAlgorithm():\n",
    "    def __init__(self):\n",
    "        edges = r'C:\\Users\\pwu154371\\Desktop\\Robotics Assignments\\V-REP_scenes\\V-REP_scenes\\Scene5_example\\edges.csv'\n",
    "        self.df_edges = pd.read_csv(edges)  \n",
    "        self.numberofedges = len(self.df_edges)\n",
    "\n",
    "        nodes = r'C:\\Users\\pwu154371\\Desktop\\Robotics Assignments\\V-REP_scenes\\V-REP_scenes\\Scene5_example\\nodes.csv'\n",
    "        self.df_nodes = pd.read_csv(nodes)  \n",
    "        self.numberofnodes = len(self.df_nodes)\n",
    "        self.OPEN = {} # a dict for open node and its' cost\n",
    "        self.OPEN[1] = 0\n",
    "        self.CLOSED = [] # list of closed nodes\n",
    "        self.cost = {} # a dict for edge costs\n",
    "        self.nbrs = {} # a dict of sets for each node's nbr\n",
    "        self.parent = [] # a list of lists for n nodes\n",
    "        self.heuristic_cost_to_go = self.df_nodes['heuristic-cost-to-go'] # get the heuristic cost to go from csv file\n",
    "        self.construct_nbrs_cost_dict()\n",
    "        self.parent = [None] * self.numberofnodes\n",
    "    \n",
    "    def construct_nbrs_cost_dict(self):\n",
    "        for node in range(self.numberofnodes):\n",
    "            self.nbrs[node+1] = set()\n",
    "\n",
    "        for i in range(len(self.df_edges)):\n",
    "            self.cost[(self.df_edges.iloc[i][0],self.df_edges.iloc[i][1])] = self.df_edges.iloc[i][2]\n",
    "            self.cost[(self.df_edges.iloc[i][1],self.df_edges.iloc[i][0])] = self.df_edges.iloc[i][2]\n",
    "\n",
    "            self.nbrs[self.df_edges.iloc[i][0]].add(self.df_edges.iloc[i][1])\n",
    "            self.nbrs[self.df_edges.iloc[i][1]].add(self.df_edges.iloc[i][0])\n",
    "    def recontruct_path(self):\n",
    "        path = [12]\n",
    "        k = 11\n",
    "        print(self.parent)\n",
    "        while k > 1:\n",
    "            prev = self.parent[k-1]\n",
    "            path.append(prev)\n",
    "            k = prev\n",
    "        return path\n",
    "    def A_start(self, goal):\n",
    "        # A start algorithm from textbook pseudo code\n",
    "        past_cost = np.ones(self.numberofnodes) * np.inf \n",
    "        past_cost[0] = 0\n",
    "        SUCESS = False\n",
    "        while self.OPEN:\n",
    "            current = next(iter(self.OPEN))\n",
    "            del self.OPEN[current]\n",
    "            self.CLOSED.append(current)\n",
    "            if current == goal:\n",
    "                SUCESS = True\n",
    "                path = self.recontruct_path()\n",
    "                path.reverse()\n",
    "                return path\n",
    "            for nbr in self.nbrs[current]:\n",
    "                if int(nbr) in self.CLOSED:\n",
    "                    continue\n",
    "                tentative_past_cost = past_cost[current-1] + self.cost[current,int(nbr)]\n",
    "                if tentative_past_cost < past_cost[int(nbr)-1]:\n",
    "                    past_cost[int(nbr)-1] = tentative_past_cost\n",
    "                    self.parent[int(nbr)-1] = current\n",
    "                    est_total_cost = past_cost[int(nbr)-1] + self.heuristic_cost_to_go[int(nbr)-1]\n",
    "                    self.OPEN[int(nbr)] = est_total_cost\n",
    "                    self.OPEN = dict(sorted(self.OPEN.items(), key=lambda item: item[1]))\n",
    "        return False"
   ]
  },
  {
   "cell_type": "code",
   "execution_count": 12,
   "metadata": {},
   "outputs": [],
   "source": [
    "answer = SearchAlgorithm()"
   ]
  },
  {
   "cell_type": "code",
   "execution_count": 13,
   "metadata": {},
   "outputs": [
    {
     "name": "stdout",
     "output_type": "stream",
     "text": [
      "[None, 1, 1, 3, 2, None, 5, 4, 5, 7, 10, 10]\n"
     ]
    }
   ],
   "source": [
    "lst = answer.A_start(12)"
   ]
  },
  {
   "cell_type": "code",
   "execution_count": 14,
   "metadata": {},
   "outputs": [
    {
     "data": {
      "text/plain": [
       "[1, 2, 5, 7, 10, 12]"
      ]
     },
     "execution_count": 14,
     "metadata": {},
     "output_type": "execute_result"
    }
   ],
   "source": [
    "lst"
   ]
  },
  {
   "cell_type": "code",
   "execution_count": 641,
   "metadata": {},
   "outputs": [],
   "source": [
    "import csv\n",
    "\n",
    "f = open(r'C:\\Users\\pwu154371\\Desktop\\Robotics Assignments\\V-REP_scenes\\V-REP_scenes\\Scene5_example\\path.csv', 'w')\n",
    "\n",
    "lst = [lst]\n",
    "\n",
    "with f:\n",
    "\n",
    "    writer = csv.writer(f)\n",
    "    \n",
    "    for row in lst:\n",
    "        writer.writerow(row)"
   ]
  },
  {
   "cell_type": "code",
   "execution_count": null,
   "metadata": {},
   "outputs": [],
   "source": []
  }
 ],
 "metadata": {
  "kernelspec": {
   "display_name": "Python 3",
   "language": "python",
   "name": "python3"
  },
  "language_info": {
   "codemirror_mode": {
    "name": "ipython",
    "version": 3
   },
   "file_extension": ".py",
   "mimetype": "text/x-python",
   "name": "python",
   "nbconvert_exporter": "python",
   "pygments_lexer": "ipython3",
   "version": "3.7.4"
  }
 },
 "nbformat": 4,
 "nbformat_minor": 2
}
